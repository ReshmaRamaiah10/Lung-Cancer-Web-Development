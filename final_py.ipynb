{
 "cells": [
  {
   "cell_type": "markdown",
   "id": "a93645f9",
   "metadata": {},
   "source": [
    "# fill_options.py"
   ]
  },
  {
   "cell_type": "code",
   "execution_count": null,
   "id": "952c8dfb",
   "metadata": {},
   "outputs": [],
   "source": [
    "#!/usr/bin/env python3\n",
    "#Query the miRNA database through the browser using a cgi program\n",
    "\n",
    "import pymysql\n",
    "import cgi\n",
    "import cgitb\n",
    "import json\n",
    "\n",
    "#the next line is useful for debugging\n",
    "#it causes errors during execution to be sent back to the browser\n",
    "cgitb.enable()\n",
    "\n",
    "#retrieve input data from the web server\n",
    "form = cgi.FieldStorage() \n",
    "\n",
    "#next line is always required as first part of http output\n",
    "print(\"Content-type: text/html\\n\")\n",
    "\n",
    "if (form):\n",
    "    #establish the connection on bioed\n",
    "    connection = pymysql.connect(host='bioed.bu.edu',user='Group_H',password='Group_H', db='Group_H',port = 4253)  \n",
    "    cursor = connection.cursor()\n",
    "    #get submitted values\n",
    "    selector = form.getvalue(\"selector\",\"\")\n",
    "\n",
    "    if (selector == \"location\"):\n",
    "        query1 = \"select distinct Location_Desc from pcga_annotation order by Location_Desc;\"\n",
    "        #execute query\n",
    "        try: \n",
    "            cursor.execute(query1)\n",
    "        except pymysql.Error as e: \n",
    "            print(e,query1)\n",
    "        results = cursor.fetchall() \n",
    "        #format the output as json object\n",
    "        print(json.dumps(results))\n",
    "    \n",
    "    elif (selector == \"primary_diagnosis\"):\n",
    "        query2 = \"select distinct primary_diagnosis from TCGA_annotation order by primary_diagnosis;\"\n",
    "        #execute query\n",
    "        try: \n",
    "            cursor.execute(query2)\n",
    "        except pymysql.Error as e: \n",
    "            print(e,query2)\n",
    "        results = cursor.fetchall() \n",
    "        #format the output as json object\n",
    "        print(json.dumps(results))\n",
    "    cursor.close()\n",
    "    connection.close()"
   ]
  }
 ],
 "metadata": {
  "kernelspec": {
   "display_name": "Python 3",
   "language": "python",
   "name": "python3"
  },
  "language_info": {
   "codemirror_mode": {
    "name": "ipython",
    "version": 3
   },
   "file_extension": ".py",
   "mimetype": "text/x-python",
   "name": "python",
   "nbconvert_exporter": "python",
   "pygments_lexer": "ipython3",
   "version": "3.8.8"
  }
 },
 "nbformat": 4,
 "nbformat_minor": 5
}
